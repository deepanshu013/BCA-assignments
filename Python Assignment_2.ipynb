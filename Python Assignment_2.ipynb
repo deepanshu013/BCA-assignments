{
 "cells": [
  {
   "cell_type": "code",
   "execution_count": 2,
   "id": "9389c9d8",
   "metadata": {},
   "outputs": [
    {
     "name": "stdout",
     "output_type": "stream",
     "text": [
      "[35, 50, 20, 30, 55, 75, 90, 95, 66, 80]\n",
      "distinction\n",
      "distinction\n",
      "distinction\n",
      "distinction\n",
      "first class\n",
      "second class\n",
      "second class\n",
      "just pass\n",
      "just pass\n",
      "fail\n",
      "fail\n",
      "fail\n"
     ]
    }
   ],
   "source": [
    "#1.\n",
    "Scores=[35,50,20,30,55,75,90,95,66,80]\n",
    "\n",
    "#i.\n",
    "print(Scores)\n",
    "\n",
    "#ii.\n",
    "for score in Scores:\n",
    "    if score>70:\n",
    "        print('distinction')\n",
    "        \n",
    "#iii.\n",
    "for score in Scores:\n",
    "    if 60 <= score <= 70:\n",
    "        print('first class')\n",
    "        \n",
    "#iv.\n",
    "for score in Scores:\n",
    "    if 50<=score<=60:\n",
    "        print('second class')\n",
    "        \n",
    "#v.\n",
    "for score in Scores:\n",
    "    if 35<=score<=50:\n",
    "        print('just pass')\n",
    "        \n",
    "#vi.\n",
    "for score in Scores:\n",
    "    if score<50:\n",
    "        print('fail')\n",
    "        "
   ]
  },
  {
   "cell_type": "code",
   "execution_count": 4,
   "id": "9b7bfee2",
   "metadata": {
    "scrolled": true
   },
   "outputs": [
    {
     "name": "stdout",
     "output_type": "stream",
     "text": [
      "Python\n",
      "Web_Tech\n",
      "IT\n"
     ]
    }
   ],
   "source": [
    "#2.\n",
    "Book_price= {'Python':600, 'Java': 400, 'Web_Tech': 550,\n",
    "             'OS': 450, 'IT': 700}\n",
    "\n",
    "for book, price in Book_price.items():\n",
    "    if price > 500:\n",
    "        print(book)\n"
   ]
  },
  {
   "cell_type": "code",
   "execution_count": 8,
   "id": "2f43207b",
   "metadata": {},
   "outputs": [
    {
     "name": "stdout",
     "output_type": "stream",
     "text": [
      "[1, 4, 9, 16, 25, 36, 49]\n"
     ]
    }
   ],
   "source": [
    "#3.\n",
    "aList = [1, 2, 3, 4, 5, 6, 7]\n",
    "\n",
    "y = [x*x for x in aList]\n",
    "print(y)\n",
    "\n"
   ]
  },
  {
   "cell_type": "code",
   "execution_count": 11,
   "id": "5802708e",
   "metadata": {},
   "outputs": [
    {
     "name": "stdout",
     "output_type": "stream",
     "text": [
      "['Hello Dear', 'Hello Sir', 'take Dear', 'take Sir']\n"
     ]
    }
   ],
   "source": [
    "#4.\n",
    "list1 = [\"Hello \", \"take \"]\n",
    "list2 = [\"Dear\", \"Sir\"]\n",
    "\n",
    "list3 = [x + y for x in list1 for y in list2]\n",
    "print(list3)\n"
   ]
  },
  {
   "cell_type": "code",
   "execution_count": 6,
   "id": "512c5ee9",
   "metadata": {},
   "outputs": [
    {
     "data": {
      "text/plain": [
       "[500, 400, 300, 200, 100]"
      ]
     },
     "execution_count": 6,
     "metadata": {},
     "output_type": "execute_result"
    }
   ],
   "source": [
    "#5.\n",
    "aList = [100, 200, 300, 400, 500]\n",
    "\n",
    "aList[::-1]\n"
   ]
  },
  {
   "cell_type": "code",
   "execution_count": 9,
   "id": "e0d66aee",
   "metadata": {},
   "outputs": [
    {
     "data": {
      "text/plain": [
       "[10, 20, [300, 400, [5000, 6000, 7000], 500], 30, 40]"
      ]
     },
     "execution_count": 9,
     "metadata": {},
     "output_type": "execute_result"
    }
   ],
   "source": [
    "#6.\n",
    "list1 = [10, 20, [300, 400, [5000, 6000], 500], 30, 40]\n",
    "\n",
    "list1[2][2].append(7000)\n",
    "list1\n"
   ]
  },
  {
   "cell_type": "code",
   "execution_count": 10,
   "id": "5324bf10",
   "metadata": {},
   "outputs": [
    {
     "name": "stdout",
     "output_type": "stream",
     "text": [
      "['a', 'b', ['c', ['d', 'e', ['f', 'g', 'h', 'i', 'j'], 'k'], 'l'], 'm', 'n']\n"
     ]
    }
   ],
   "source": [
    "#7.\n",
    "list1 = [\"a\", \"b\", [\"c\", [\"d\", \"e\", [\"f\", \"g\"], \"k\"], \"l\"], \"m\", \"n\"]\n",
    "\n",
    "sub_list = [\"h\", \"i\", \"j\"]\n",
    "list1[2][1][2].extend(sub_list)\n",
    "print(list1)\n"
   ]
  },
  {
   "cell_type": "code",
   "execution_count": 12,
   "id": "14d5d4ad",
   "metadata": {},
   "outputs": [
    {
     "name": "stdout",
     "output_type": "stream",
     "text": [
      "[5, 10, 15, 200, 25, 50, 20]\n"
     ]
    }
   ],
   "source": [
    "#8.\n",
    "list1 = [5, 10, 15, 20, 25, 50, 20]\n",
    "\n",
    "index = list1.index(20)\n",
    "list1[index] = 200\n",
    "print(list1)\n"
   ]
  },
  {
   "cell_type": "code",
   "execution_count": 13,
   "id": "5f574bb7",
   "metadata": {},
   "outputs": [
    {
     "name": "stdout",
     "output_type": "stream",
     "text": [
      "Sachin\n",
      "Rahul\n"
     ]
    }
   ],
   "source": [
    "#9.\n",
    "Player_game={'Sachin':'Cricket', 'Rahul': 'Cricket',\n",
    "             'Messi': 'Football','Federer': 'Tennis',\n",
    "             'Anand': 'Chess'}\n",
    "for player, game in Player_game.items():\n",
    "    if game == 'Cricket':\n",
    "        print(player)\n",
    "        "
   ]
  },
  {
   "cell_type": "code",
   "execution_count": 14,
   "id": "6c092139",
   "metadata": {},
   "outputs": [
    {
     "name": "stdout",
     "output_type": "stream",
     "text": [
      "51\n"
     ]
    }
   ],
   "source": [
    "#10.\n",
    "List1= [1,2,4,5,10,20,4,5,]\n",
    "\n",
    "print(sum(List1))\n"
   ]
  },
  {
   "cell_type": "code",
   "execution_count": null,
   "id": "305438af",
   "metadata": {},
   "outputs": [],
   "source": []
  }
 ],
 "metadata": {
  "kernelspec": {
   "display_name": "Python 3 (ipykernel)",
   "language": "python",
   "name": "python3"
  },
  "language_info": {
   "codemirror_mode": {
    "name": "ipython",
    "version": 3
   },
   "file_extension": ".py",
   "mimetype": "text/x-python",
   "name": "python",
   "nbconvert_exporter": "python",
   "pygments_lexer": "ipython3",
   "version": "3.11.4"
  }
 },
 "nbformat": 4,
 "nbformat_minor": 5
}
